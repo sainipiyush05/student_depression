{
 "cells": [
  {
   "cell_type": "code",
   "execution_count": 1,
   "metadata": {},
   "outputs": [],
   "source": [
    "## Import Libraries\n",
    "import pandas as pd\n",
    "import numpy as np\n",
    "import matplotlib.pyplot as plt\n",
    "import seaborn as sns\n",
    "%matplotlib inline\n",
    "import warnings\n",
    "warnings.filterwarnings(\"ignore\")\n",
    "\n",
    "from sklearn.preprocessing import LabelEncoder, StandardScaler\n",
    "from sklearn.model_selection import train_test_split, RandomizedSearchCV\n",
    "from sklearn.metrics import accuracy_score, classification_report, \\\n",
    "                            confusion_matrix, ConfusionMatrixDisplay, \\\n",
    "                            precision_score, recall_score, f1_score, roc_auc_score"
   ]
  },
  {
   "cell_type": "code",
   "execution_count": 2,
   "metadata": {},
   "outputs": [],
   "source": [
    "## Load Dataset\n",
    "df = pd.read_csv(\"student_depression_dataset.csv\")\n",
    "df.drop(columns=['id', 'City'], inplace=True)"
   ]
  },
  {
   "cell_type": "markdown",
   "metadata": {},
   "source": [
    "## Data Preprocessing"
   ]
  },
  {
   "cell_type": "code",
   "execution_count": 30,
   "metadata": {},
   "outputs": [
    {
     "name": "stdout",
     "output_type": "stream",
     "text": [
      "<class 'pandas.core.frame.DataFrame'>\n",
      "RangeIndex: 27901 entries, 0 to 27900\n",
      "Data columns (total 16 columns):\n",
      " #   Column                                 Non-Null Count  Dtype  \n",
      "---  ------                                 --------------  -----  \n",
      " 0   Gender                                 27901 non-null  int64  \n",
      " 1   Age                                    27901 non-null  float64\n",
      " 2   Profession                             27901 non-null  int64  \n",
      " 3   Academic Pressure                      27901 non-null  float64\n",
      " 4   Work Pressure                          27901 non-null  float64\n",
      " 5   CGPA                                   27901 non-null  float64\n",
      " 6   Study Satisfaction                     27901 non-null  float64\n",
      " 7   Job Satisfaction                       27901 non-null  float64\n",
      " 8   Sleep Duration                         27901 non-null  int64  \n",
      " 9   Dietary Habits                         27901 non-null  int64  \n",
      " 10  Degree                                 27901 non-null  int64  \n",
      " 11  Have you ever had suicidal thoughts ?  27901 non-null  int64  \n",
      " 12  Work/Study Hours                       27901 non-null  float64\n",
      " 13  Financial Stress                       27901 non-null  int64  \n",
      " 14  Family History of Mental Illness       27901 non-null  int64  \n",
      " 15  Depression                             27901 non-null  int64  \n",
      "dtypes: float64(7), int64(9)\n",
      "memory usage: 3.4 MB\n"
     ]
    }
   ],
   "source": [
    "df.info()"
   ]
  },
  {
   "cell_type": "code",
   "execution_count": 31,
   "metadata": {},
   "outputs": [
    {
     "data": {
      "text/plain": [
       "Gender                                   0\n",
       "Age                                      0\n",
       "Profession                               0\n",
       "Academic Pressure                        0\n",
       "Work Pressure                            0\n",
       "CGPA                                     0\n",
       "Study Satisfaction                       0\n",
       "Job Satisfaction                         0\n",
       "Sleep Duration                           0\n",
       "Dietary Habits                           0\n",
       "Degree                                   0\n",
       "Have you ever had suicidal thoughts ?    0\n",
       "Work/Study Hours                         0\n",
       "Financial Stress                         0\n",
       "Family History of Mental Illness         0\n",
       "Depression                               0\n",
       "dtype: int64"
      ]
     },
     "execution_count": 31,
     "metadata": {},
     "output_type": "execute_result"
    }
   ],
   "source": [
    "df.isnull().sum()"
   ]
  },
  {
   "cell_type": "code",
   "execution_count": 33,
   "metadata": {},
   "outputs": [
    {
     "data": {
      "text/html": [
       "<div>\n",
       "<style scoped>\n",
       "    .dataframe tbody tr th:only-of-type {\n",
       "        vertical-align: middle;\n",
       "    }\n",
       "\n",
       "    .dataframe tbody tr th {\n",
       "        vertical-align: top;\n",
       "    }\n",
       "\n",
       "    .dataframe thead th {\n",
       "        text-align: right;\n",
       "    }\n",
       "</style>\n",
       "<table border=\"1\" class=\"dataframe\">\n",
       "  <thead>\n",
       "    <tr style=\"text-align: right;\">\n",
       "      <th></th>\n",
       "      <th>Gender</th>\n",
       "      <th>Age</th>\n",
       "      <th>Profession</th>\n",
       "      <th>Academic Pressure</th>\n",
       "      <th>Work Pressure</th>\n",
       "      <th>CGPA</th>\n",
       "      <th>Study Satisfaction</th>\n",
       "      <th>Job Satisfaction</th>\n",
       "      <th>Sleep Duration</th>\n",
       "      <th>Dietary Habits</th>\n",
       "      <th>Degree</th>\n",
       "      <th>Have you ever had suicidal thoughts ?</th>\n",
       "      <th>Work/Study Hours</th>\n",
       "      <th>Financial Stress</th>\n",
       "      <th>Family History of Mental Illness</th>\n",
       "      <th>Depression</th>\n",
       "    </tr>\n",
       "  </thead>\n",
       "  <tbody>\n",
       "    <tr>\n",
       "      <th>0</th>\n",
       "      <td>1</td>\n",
       "      <td>33.0</td>\n",
       "      <td>12</td>\n",
       "      <td>5.0</td>\n",
       "      <td>0.0</td>\n",
       "      <td>8.97</td>\n",
       "      <td>2.0</td>\n",
       "      <td>0.0</td>\n",
       "      <td>0</td>\n",
       "      <td>0</td>\n",
       "      <td>4</td>\n",
       "      <td>1</td>\n",
       "      <td>3.0</td>\n",
       "      <td>0</td>\n",
       "      <td>0</td>\n",
       "      <td>1</td>\n",
       "    </tr>\n",
       "    <tr>\n",
       "      <th>1</th>\n",
       "      <td>0</td>\n",
       "      <td>24.0</td>\n",
       "      <td>12</td>\n",
       "      <td>2.0</td>\n",
       "      <td>0.0</td>\n",
       "      <td>5.90</td>\n",
       "      <td>5.0</td>\n",
       "      <td>0.0</td>\n",
       "      <td>0</td>\n",
       "      <td>1</td>\n",
       "      <td>11</td>\n",
       "      <td>0</td>\n",
       "      <td>3.0</td>\n",
       "      <td>1</td>\n",
       "      <td>1</td>\n",
       "      <td>0</td>\n",
       "    </tr>\n",
       "    <tr>\n",
       "      <th>2</th>\n",
       "      <td>1</td>\n",
       "      <td>31.0</td>\n",
       "      <td>12</td>\n",
       "      <td>3.0</td>\n",
       "      <td>0.0</td>\n",
       "      <td>7.03</td>\n",
       "      <td>5.0</td>\n",
       "      <td>0.0</td>\n",
       "      <td>2</td>\n",
       "      <td>0</td>\n",
       "      <td>6</td>\n",
       "      <td>0</td>\n",
       "      <td>9.0</td>\n",
       "      <td>0</td>\n",
       "      <td>1</td>\n",
       "      <td>0</td>\n",
       "    </tr>\n",
       "    <tr>\n",
       "      <th>3</th>\n",
       "      <td>0</td>\n",
       "      <td>28.0</td>\n",
       "      <td>12</td>\n",
       "      <td>3.0</td>\n",
       "      <td>0.0</td>\n",
       "      <td>5.59</td>\n",
       "      <td>2.0</td>\n",
       "      <td>0.0</td>\n",
       "      <td>1</td>\n",
       "      <td>1</td>\n",
       "      <td>8</td>\n",
       "      <td>1</td>\n",
       "      <td>4.0</td>\n",
       "      <td>4</td>\n",
       "      <td>1</td>\n",
       "      <td>1</td>\n",
       "    </tr>\n",
       "    <tr>\n",
       "      <th>4</th>\n",
       "      <td>0</td>\n",
       "      <td>25.0</td>\n",
       "      <td>12</td>\n",
       "      <td>4.0</td>\n",
       "      <td>0.0</td>\n",
       "      <td>8.13</td>\n",
       "      <td>3.0</td>\n",
       "      <td>0.0</td>\n",
       "      <td>0</td>\n",
       "      <td>1</td>\n",
       "      <td>17</td>\n",
       "      <td>1</td>\n",
       "      <td>1.0</td>\n",
       "      <td>0</td>\n",
       "      <td>0</td>\n",
       "      <td>0</td>\n",
       "    </tr>\n",
       "  </tbody>\n",
       "</table>\n",
       "</div>"
      ],
      "text/plain": [
       "   Gender   Age  Profession  Academic Pressure  Work Pressure  CGPA  \\\n",
       "0       1  33.0          12                5.0            0.0  8.97   \n",
       "1       0  24.0          12                2.0            0.0  5.90   \n",
       "2       1  31.0          12                3.0            0.0  7.03   \n",
       "3       0  28.0          12                3.0            0.0  5.59   \n",
       "4       0  25.0          12                4.0            0.0  8.13   \n",
       "\n",
       "   Study Satisfaction  Job Satisfaction  Sleep Duration  Dietary Habits  \\\n",
       "0                 2.0               0.0               0               0   \n",
       "1                 5.0               0.0               0               1   \n",
       "2                 5.0               0.0               2               0   \n",
       "3                 2.0               0.0               1               1   \n",
       "4                 3.0               0.0               0               1   \n",
       "\n",
       "   Degree  Have you ever had suicidal thoughts ?  Work/Study Hours  \\\n",
       "0       4                                      1               3.0   \n",
       "1      11                                      0               3.0   \n",
       "2       6                                      0               9.0   \n",
       "3       8                                      1               4.0   \n",
       "4      17                                      1               1.0   \n",
       "\n",
       "   Financial Stress  Family History of Mental Illness  Depression  \n",
       "0                 0                                 0           1  \n",
       "1                 1                                 1           0  \n",
       "2                 0                                 1           0  \n",
       "3                 4                                 1           1  \n",
       "4                 0                                 0           0  "
      ]
     },
     "execution_count": 33,
     "metadata": {},
     "output_type": "execute_result"
    }
   ],
   "source": [
    "df.head()"
   ]
  },
  {
   "cell_type": "code",
   "execution_count": 34,
   "metadata": {},
   "outputs": [
    {
     "data": {
      "text/plain": [
       "Profession\n",
       "12    27870\n",
       "5         8\n",
       "13        6\n",
       "2         3\n",
       "1         2\n",
       "6         2\n",
       "7         2\n",
       "11        2\n",
       "0         1\n",
       "4         1\n",
       "3         1\n",
       "10        1\n",
       "9         1\n",
       "8         1\n",
       "Name: count, dtype: int64"
      ]
     },
     "execution_count": 34,
     "metadata": {},
     "output_type": "execute_result"
    }
   ],
   "source": [
    "df['Profession'].value_counts()"
   ]
  },
  {
   "cell_type": "code",
   "execution_count": 35,
   "metadata": {},
   "outputs": [
    {
     "data": {
      "text/plain": [
       "Work Pressure\n",
       "0.0    27898\n",
       "5.0        2\n",
       "2.0        1\n",
       "Name: count, dtype: int64"
      ]
     },
     "execution_count": 35,
     "metadata": {},
     "output_type": "execute_result"
    }
   ],
   "source": [
    "df['Work Pressure'].value_counts()"
   ]
  },
  {
   "cell_type": "code",
   "execution_count": 36,
   "metadata": {},
   "outputs": [
    {
     "data": {
      "text/plain": [
       "(27901, 16)"
      ]
     },
     "execution_count": 36,
     "metadata": {},
     "output_type": "execute_result"
    }
   ],
   "source": [
    "df.shape"
   ]
  },
  {
   "cell_type": "code",
   "execution_count": 37,
   "metadata": {},
   "outputs": [
    {
     "data": {
      "text/plain": [
       "Gender                                     int64\n",
       "Age                                      float64\n",
       "Profession                                 int64\n",
       "Academic Pressure                        float64\n",
       "Work Pressure                            float64\n",
       "CGPA                                     float64\n",
       "Study Satisfaction                       float64\n",
       "Job Satisfaction                         float64\n",
       "Sleep Duration                             int64\n",
       "Dietary Habits                             int64\n",
       "Degree                                     int64\n",
       "Have you ever had suicidal thoughts ?      int64\n",
       "Work/Study Hours                         float64\n",
       "Financial Stress                           int64\n",
       "Family History of Mental Illness           int64\n",
       "Depression                                 int64\n",
       "dtype: object"
      ]
     },
     "execution_count": 37,
     "metadata": {},
     "output_type": "execute_result"
    }
   ],
   "source": [
    "df.dtypes"
   ]
  },
  {
   "cell_type": "code",
   "execution_count": 3,
   "metadata": {},
   "outputs": [],
   "source": [
    "## Encode Categorical Features\n",
    "label_encoder = {}\n",
    "for col in df.select_dtypes(include='object').columns:\n",
    "    le = LabelEncoder()\n",
    "    df[col] = le.fit_transform(df[col])\n",
    "    label_encoder[col] = le"
   ]
  },
  {
   "cell_type": "code",
   "execution_count": 4,
   "metadata": {},
   "outputs": [],
   "source": [
    "## Feature Scaling\n",
    "X = df.drop(columns=['Depression'])\n",
    "y = df['Depression']\n",
    "scaler = StandardScaler()\n",
    "X_scaled = scaler.fit_transform(X)\n"
   ]
  },
  {
   "cell_type": "code",
   "execution_count": 6,
   "metadata": {},
   "outputs": [],
   "source": [
    "## Train-Test Split\n",
    "X_train, X_test, y_train, y_test = train_test_split(X_scaled, y, test_size=0.2, random_state=42)"
   ]
  },
  {
   "cell_type": "code",
   "execution_count": 10,
   "metadata": {},
   "outputs": [],
   "source": [
    "## Model Dictionary (Initial Testing)\n",
    "from sklearn.linear_model import LogisticRegression\n",
    "from sklearn.tree import DecisionTreeClassifier\n",
    "from sklearn.ensemble import RandomForestClassifier, GradientBoostingClassifier, AdaBoostClassifier\n",
    "from sklearn.svm import SVC\n",
    "\n",
    "\n",
    "models = {\n",
    "    \"Logistic Regression\": LogisticRegression(),\n",
    "    \"Decision Tree\": DecisionTreeClassifier(),\n",
    "    \"Random Forest\": RandomForestClassifier(),\n",
    "    \"Gradient Boost\": GradientBoostingClassifier(),\n",
    "    \"Adaboost\": AdaBoostClassifier()\n",
    "}"
   ]
  },
  {
   "cell_type": "code",
   "execution_count": 12,
   "metadata": {},
   "outputs": [
    {
     "name": "stdout",
     "output_type": "stream",
     "text": [
      "----- Logistic Regression -----\n",
      "Training:\n",
      "- Accuracy: 0.8482\n",
      "- F1 Score: 0.8476\n",
      "- Precision: 0.8579\n",
      "- Recall: 0.8885\n",
      "- ROC AUC: 0.8397\n",
      "Testing:\n",
      "- Accuracy: 0.8371\n",
      "- F1 Score: 0.8367\n",
      "- Precision: 0.8509\n",
      "- Recall: 0.8721\n",
      "- ROC AUC: 0.8304\n",
      "========================================\n",
      "----- Decision Tree -----\n",
      "Training:\n",
      "- Accuracy: 1.0000\n",
      "- F1 Score: 1.0000\n",
      "- Precision: 1.0000\n",
      "- Recall: 1.0000\n",
      "- ROC AUC: 1.0000\n",
      "Testing:\n",
      "- Accuracy: 0.7457\n",
      "- F1 Score: 0.7463\n",
      "- Precision: 0.7875\n",
      "- Recall: 0.7693\n",
      "- ROC AUC: 0.7412\n",
      "========================================\n",
      "----- Random Forest -----\n",
      "Training:\n",
      "- Accuracy: 1.0000\n",
      "- F1 Score: 1.0000\n",
      "- Precision: 1.0000\n",
      "- Recall: 1.0000\n",
      "- ROC AUC: 1.0000\n",
      "Testing:\n",
      "- Accuracy: 0.8296\n",
      "- F1 Score: 0.8292\n",
      "- Precision: 0.8445\n",
      "- Recall: 0.8657\n",
      "- ROC AUC: 0.8227\n",
      "========================================\n",
      "----- Gradient Boost -----\n",
      "Training:\n",
      "- Accuracy: 0.8548\n",
      "- F1 Score: 0.8542\n",
      "- Precision: 0.8640\n",
      "- Recall: 0.8931\n",
      "- ROC AUC: 0.8467\n",
      "Testing:\n",
      "- Accuracy: 0.8375\n",
      "- F1 Score: 0.8369\n",
      "- Precision: 0.8484\n",
      "- Recall: 0.8765\n",
      "- ROC AUC: 0.8300\n",
      "========================================\n",
      "----- Adaboost -----\n",
      "Training:\n",
      "- Accuracy: 0.8494\n",
      "- F1 Score: 0.8488\n",
      "- Precision: 0.8597\n",
      "- Recall: 0.8882\n",
      "- ROC AUC: 0.8412\n",
      "Testing:\n",
      "- Accuracy: 0.8400\n",
      "- F1 Score: 0.8395\n",
      "- Precision: 0.8516\n",
      "- Recall: 0.8771\n",
      "- ROC AUC: 0.8329\n",
      "========================================\n"
     ]
    }
   ],
   "source": [
    "## Evaluate Models Before Tuning\n",
    "def evaluate_models(models, X_train, y_train, X_test, y_test):\n",
    "    for name, model in models.items():\n",
    "        model.fit(X_train, y_train)\n",
    "        y_train_pred = model.predict(X_train)\n",
    "        y_test_pred = model.predict(X_test)\n",
    "\n",
    "        print(f\"----- {name} -----\")\n",
    "        print(\"Training:\")\n",
    "        print(\"- Accuracy: {:.4f}\".format(accuracy_score(y_train, y_train_pred)))\n",
    "        print(\"- F1 Score: {:.4f}\".format(f1_score(y_train, y_train_pred, average='weighted')))\n",
    "        print(\"- Precision: {:.4f}\".format(precision_score(y_train, y_train_pred)))\n",
    "        print(\"- Recall: {:.4f}\".format(recall_score(y_train, y_train_pred)))\n",
    "        print(\"- ROC AUC: {:.4f}\".format(roc_auc_score(y_train, y_train_pred)))\n",
    "\n",
    "        print(\"Testing:\")\n",
    "        print(\"- Accuracy: {:.4f}\".format(accuracy_score(y_test, y_test_pred)))\n",
    "        print(\"- F1 Score: {:.4f}\".format(f1_score(y_test, y_test_pred, average='weighted')))\n",
    "        print(\"- Precision: {:.4f}\".format(precision_score(y_test, y_test_pred)))\n",
    "        print(\"- Recall: {:.4f}\".format(recall_score(y_test, y_test_pred)))\n",
    "        print(\"- ROC AUC: {:.4f}\".format(roc_auc_score(y_test, y_test_pred)))\n",
    "        print(\"=\"*40)\n",
    "\n",
    "evaluate_models(models, X_train, y_train, X_test, y_test)"
   ]
  },
  {
   "cell_type": "code",
   "execution_count": 13,
   "metadata": {},
   "outputs": [
    {
     "name": "stdout",
     "output_type": "stream",
     "text": [
      "Fitting 3 folds for each of 10 candidates, totalling 30 fits\n",
      "\n",
      "Best parameters for RandomForest: {'n_estimators': 200, 'min_samples_split': 10, 'max_features': 7, 'max_depth': 10}\n",
      "Fitting 3 folds for each of 10 candidates, totalling 30 fits\n",
      "\n",
      "Best parameters for SVC: {'kernel': 'rbf', 'gamma': 0.01, 'C': 10}\n",
      "Fitting 3 folds for each of 10 candidates, totalling 30 fits\n"
     ]
    },
    {
     "name": "stderr",
     "output_type": "stream",
     "text": [
      "/opt/homebrew/lib/python3.11/site-packages/sklearn/ensemble/_weight_boosting.py:519: FutureWarning: The parameter 'algorithm' is deprecated in 1.6 and has no effect. It will be removed in version 1.8.\n",
      "  warnings.warn(\n",
      "/opt/homebrew/lib/python3.11/site-packages/sklearn/ensemble/_weight_boosting.py:519: FutureWarning: The parameter 'algorithm' is deprecated in 1.6 and has no effect. It will be removed in version 1.8.\n",
      "  warnings.warn(\n",
      "/opt/homebrew/lib/python3.11/site-packages/sklearn/ensemble/_weight_boosting.py:519: FutureWarning: The parameter 'algorithm' is deprecated in 1.6 and has no effect. It will be removed in version 1.8.\n",
      "  warnings.warn(\n",
      "/opt/homebrew/lib/python3.11/site-packages/sklearn/ensemble/_weight_boosting.py:519: FutureWarning: The parameter 'algorithm' is deprecated in 1.6 and has no effect. It will be removed in version 1.8.\n",
      "  warnings.warn(\n",
      "/opt/homebrew/lib/python3.11/site-packages/sklearn/ensemble/_weight_boosting.py:519: FutureWarning: The parameter 'algorithm' is deprecated in 1.6 and has no effect. It will be removed in version 1.8.\n",
      "  warnings.warn(\n",
      "/opt/homebrew/lib/python3.11/site-packages/sklearn/ensemble/_weight_boosting.py:519: FutureWarning: The parameter 'algorithm' is deprecated in 1.6 and has no effect. It will be removed in version 1.8.\n",
      "  warnings.warn(\n",
      "/opt/homebrew/lib/python3.11/site-packages/sklearn/ensemble/_weight_boosting.py:519: FutureWarning: The parameter 'algorithm' is deprecated in 1.6 and has no effect. It will be removed in version 1.8.\n",
      "  warnings.warn(\n",
      "/opt/homebrew/lib/python3.11/site-packages/sklearn/ensemble/_weight_boosting.py:519: FutureWarning: The parameter 'algorithm' is deprecated in 1.6 and has no effect. It will be removed in version 1.8.\n",
      "  warnings.warn(\n",
      "/opt/homebrew/lib/python3.11/site-packages/sklearn/ensemble/_weight_boosting.py:519: FutureWarning: The parameter 'algorithm' is deprecated in 1.6 and has no effect. It will be removed in version 1.8.\n",
      "  warnings.warn(\n",
      "/opt/homebrew/lib/python3.11/site-packages/sklearn/ensemble/_weight_boosting.py:519: FutureWarning: The parameter 'algorithm' is deprecated in 1.6 and has no effect. It will be removed in version 1.8.\n",
      "  warnings.warn(\n",
      "/opt/homebrew/lib/python3.11/site-packages/sklearn/ensemble/_weight_boosting.py:519: FutureWarning: The parameter 'algorithm' is deprecated in 1.6 and has no effect. It will be removed in version 1.8.\n",
      "  warnings.warn(\n",
      "/opt/homebrew/lib/python3.11/site-packages/sklearn/ensemble/_weight_boosting.py:519: FutureWarning: The parameter 'algorithm' is deprecated in 1.6 and has no effect. It will be removed in version 1.8.\n",
      "  warnings.warn(\n",
      "/opt/homebrew/lib/python3.11/site-packages/sklearn/ensemble/_weight_boosting.py:519: FutureWarning: The parameter 'algorithm' is deprecated in 1.6 and has no effect. It will be removed in version 1.8.\n",
      "  warnings.warn(\n",
      "/opt/homebrew/lib/python3.11/site-packages/sklearn/ensemble/_weight_boosting.py:519: FutureWarning: The parameter 'algorithm' is deprecated in 1.6 and has no effect. It will be removed in version 1.8.\n",
      "  warnings.warn(\n",
      "/opt/homebrew/lib/python3.11/site-packages/sklearn/ensemble/_weight_boosting.py:519: FutureWarning: The parameter 'algorithm' is deprecated in 1.6 and has no effect. It will be removed in version 1.8.\n",
      "  warnings.warn(\n"
     ]
    },
    {
     "name": "stdout",
     "output_type": "stream",
     "text": [
      "\n",
      "Best parameters for Adaboost: {'n_estimators': 80, 'algorithm': 'SAMME'}\n"
     ]
    }
   ],
   "source": [
    "## Hyperparameter Tuning with RandomizedSearchCV\n",
    "randomcv_models = [\n",
    "    (\"RandomForest\", RandomForestClassifier(), {\n",
    "        'n_estimators': [100, 200, 500, 1000],\n",
    "        'max_depth': [None, 10, 20],\n",
    "        'min_samples_split': [2, 5, 10],\n",
    "        'max_features': ['auto', 5, 7, 8]\n",
    "    }),\n",
    "    (\"SVC\", SVC(), {\n",
    "        'C': [0.1, 1, 10],\n",
    "        'gamma': [0.01, 0.1, 1],\n",
    "        'kernel': ['rbf', 'linear']\n",
    "    }),\n",
    "    (\"Adaboost\", AdaBoostClassifier(), {\n",
    "        'n_estimators': [50, 60, 70, 80, 90],\n",
    "        'algorithm': ['SAMME', 'SAMME.R']\n",
    "    })\n",
    "]\n",
    "\n",
    "best_models = {}\n",
    "for name, model, params in randomcv_models:\n",
    "    search = RandomizedSearchCV(model, param_distributions=params, n_iter=10, cv=3, verbose=1, n_jobs=-1)\n",
    "    search.fit(X_train, y_train)\n",
    "    best_models[name] = search.best_estimator_\n",
    "    print(f\"\\nBest parameters for {name}: {search.best_params_}\")"
   ]
  },
  {
   "cell_type": "code",
   "execution_count": 14,
   "metadata": {},
   "outputs": [
    {
     "name": "stdout",
     "output_type": "stream",
     "text": [
      "----- RandomForest -----\n",
      "Training:\n",
      "- Accuracy: 0.8887\n",
      "- F1 Score: 0.8883\n",
      "- Precision: 0.8915\n",
      "- Recall: 0.9226\n",
      "- ROC AUC: 0.8816\n",
      "Testing:\n",
      "- Accuracy: 0.8321\n",
      "- F1 Score: 0.8315\n",
      "- Precision: 0.8437\n",
      "- Recall: 0.8721\n",
      "- ROC AUC: 0.8245\n",
      "========================================\n",
      "----- SVC -----\n",
      "Training:\n",
      "- Accuracy: 0.8528\n",
      "- F1 Score: 0.8513\n",
      "- Precision: 0.8490\n",
      "- Recall: 0.9111\n",
      "- ROC AUC: 0.8405\n",
      "Testing:\n",
      "- Accuracy: 0.8362\n",
      "- F1 Score: 0.8349\n",
      "- Precision: 0.8362\n",
      "- Recall: 0.8925\n",
      "- ROC AUC: 0.8255\n",
      "========================================\n",
      "----- Adaboost -----\n",
      "Training:\n",
      "- Accuracy: 0.8494\n",
      "- F1 Score: 0.8488\n",
      "- Precision: 0.8597\n",
      "- Recall: 0.8882\n",
      "- ROC AUC: 0.8412\n",
      "Testing:\n",
      "- Accuracy: 0.8400\n",
      "- F1 Score: 0.8395\n",
      "- Precision: 0.8516\n",
      "- Recall: 0.8771\n",
      "- ROC AUC: 0.8329\n",
      "========================================\n"
     ]
    }
   ],
   "source": [
    "## Final Evaluation with Tuned Models\n",
    "evaluate_models(best_models, X_train, y_train, X_test, y_test)"
   ]
  },
  {
   "cell_type": "code",
   "execution_count": 16,
   "metadata": {},
   "outputs": [
    {
     "name": "stdout",
     "output_type": "stream",
     "text": [
      "Index(['Gender', 'Age', 'Profession', 'Academic Pressure', 'Work Pressure',\n",
      "       'CGPA', 'Study Satisfaction', 'Job Satisfaction', 'Sleep Duration',\n",
      "       'Dietary Habits', 'Degree', 'Have you ever had suicidal thoughts ?',\n",
      "       'Work/Study Hours', 'Financial Stress',\n",
      "       'Family History of Mental Illness', 'Depression'],\n",
      "      dtype='object')\n",
      "Index(['Gender', 'Age', 'Profession', 'Academic Pressure', 'Work Pressure',\n",
      "       'CGPA', 'Study Satisfaction', 'Job Satisfaction', 'Sleep Duration',\n",
      "       'Dietary Habits', 'Degree', 'Have you ever had suicidal thoughts ?',\n",
      "       'Work/Study Hours', 'Financial Stress',\n",
      "       'Family History of Mental Illness'],\n",
      "      dtype='object')\n"
     ]
    }
   ],
   "source": [
    "print(df.columns)\n",
    "print(X.columns)\n"
   ]
  },
  {
   "cell_type": "code",
   "execution_count": 29,
   "metadata": {},
   "outputs": [
    {
     "name": "stdout",
     "output_type": "stream",
     "text": [
      "Predicted Depression (0 = No, 1 = Yes): 0\n"
     ]
    }
   ],
   "source": [
    "sample_input_dict = {\n",
    "    'Gender': 1,         \n",
    "    'Age': 21,\n",
    "    'Profession': 2,\n",
    "    'Academic Pressure': 2,\n",
    "    'Work Pressure': 2,\n",
    "    'CGPA': 5.67,\n",
    "    'Study Satisfaction': 2,\n",
    "    'Job Satisfaction': 1,\n",
    "    'Sleep Duration': 6,\n",
    "    'Dietary Habits': 3,\n",
    "    'Social Support': 1,\n",
    "    'Degree': 2,\n",
    "    'Have you ever had suicidal thoughts ?': 1,\n",
    "    'Work/Study Hours': 1,\n",
    "    'Financial Stress': 1,\n",
    "    'Family History of Mental Illness': 0,\n",
    "}\n",
    "\n",
    "# Convert to DataFrame\n",
    "sample_input_df = pd.DataFrame([sample_input_dict])\n",
    "\n",
    "# Ensure column order matches training data\n",
    "sample_input_df = sample_input_df[X.columns]\n",
    "\n",
    "# Scale the input\n",
    "sample_input_scaled = scaler.transform(sample_input_df)\n",
    "\n",
    "final_model = best_models[\"RandomForest\"] \n",
    "pred = final_model.predict(sample_input_scaled)\n",
    "\n",
    "print(\"Predicted Depression (0 = No, 1 = Yes):\", pred[0])\n",
    "\n",
    "\n"
   ]
  }
 ],
 "metadata": {
  "kernelspec": {
   "display_name": "Python 3",
   "language": "python",
   "name": "python3"
  },
  "language_info": {
   "codemirror_mode": {
    "name": "ipython",
    "version": 3
   },
   "file_extension": ".py",
   "mimetype": "text/x-python",
   "name": "python",
   "nbconvert_exporter": "python",
   "pygments_lexer": "ipython3",
   "version": "3.11.11"
  }
 },
 "nbformat": 4,
 "nbformat_minor": 2
}
